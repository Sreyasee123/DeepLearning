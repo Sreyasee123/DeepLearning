{
  "nbformat": 4,
  "nbformat_minor": 0,
  "metadata": {
    "colab": {
      "provenance": [],
      "gpuType": "V28"
    },
    "kernelspec": {
      "name": "python3",
      "display_name": "Python 3"
    },
    "language_info": {
      "name": "python"
    },
    "accelerator": "TPU"
  },
  "cells": [
    {
      "cell_type": "code",
      "execution_count": 1,
      "metadata": {
        "colab": {
          "base_uri": "https://localhost:8080/"
        },
        "id": "uGbSQLwURSLc",
        "outputId": "02b25957-48ee-4f8a-8656-4b542ff45196"
      },
      "outputs": [
        {
          "output_type": "execute_result",
          "data": {
            "text/plain": [
              "['Questions.csv', 'Answers.csv', 'Tags.csv']"
            ]
          },
          "metadata": {},
          "execution_count": 1
        }
      ],
      "source": [
        "import urllib.request\n",
        "import zipfile\n",
        "import os\n",
        "\n",
        "# Define the URL and destination path\n",
        "url = \"https://www.dropbox.com/s/5721wcs2guuykzl/stacksample.zip?dl=1\"\n",
        "zip_path = \"stacksample.zip\"\n",
        "extract_path = \"stacksample\"\n",
        "\n",
        "# Download the zip file\n",
        "urllib.request.urlretrieve(url, zip_path)\n",
        "\n",
        "# Extract the zip file\n",
        "with zipfile.ZipFile(zip_path, 'r') as zip_ref:\n",
        "    zip_ref.extractall(extract_path)\n",
        "\n",
        "# Verify the extracted files\n",
        "os.listdir(extract_path)"
      ]
    },
    {
      "cell_type": "code",
      "source": [
        "import pandas as pd\n",
        "from sklearn.feature_extraction.text import HashingVectorizer\n",
        "from sklearn.linear_model import LogisticRegression\n",
        "from sklearn.multioutput import MultiOutputClassifier\n",
        "from sklearn.model_selection import train_test_split\n",
        "from sklearn.preprocessing import MultiLabelBinarizer\n",
        "from sklearn.metrics import classification_report\n",
        "from scipy.sparse import csr_matrix\n",
        "\n",
        "# Define file paths\n",
        "questions_path = os.path.join(extract_path, 'Questions.csv')\n",
        "tags_path = os.path.join(extract_path, 'Tags.csv')\n",
        "\n",
        "# Load data\n",
        "questions_df = pd.read_csv(questions_path, encoding='ISO-8859-1')\n",
        "tags_df = pd.read_csv(tags_path, encoding='ISO-8859-1')\n",
        "\n",
        "# Rename columns for merging\n",
        "questions_df.rename(columns={'Id': 'question_id'}, inplace=True)\n",
        "tags_df.rename(columns={'Id': 'question_id'}, inplace=True)\n",
        "\n",
        "# Merge dataframes\n",
        "data_df = pd.merge(questions_df, tags_df, on='question_id', how='left')\n",
        "\n",
        "# Combine Title and Body into a single text column\n",
        "data_df['Text'] = data_df['Title'].fillna('') + ' ' + data_df['Body'].fillna('')\n",
        "data_df['Tag'] = data_df['Tag'].fillna('')\n",
        "data_df['Tags'] = data_df['Tag'].str.split()\n",
        "\n",
        "# Filter to include only top 10 most occurring tags\n",
        "top_tags = data_df['Tags'].explode().value_counts().nlargest(10).index\n",
        "data_df['Tags'] = data_df['Tags'].apply(lambda tags: [tag for tag in tags if tag in top_tags])\n",
        "data_df = data_df[data_df['Tags'].map(len) > 0]\n",
        "\n",
        "# Split into features and labels\n",
        "X = data_df['Text']\n",
        "y = data_df['Tags']\n",
        "\n",
        "# Binarize tags\n",
        "mlb = MultiLabelBinarizer()\n",
        "y_binarized = mlb.fit_transform(y)\n",
        "\n",
        "# Split data into training and validation sets\n",
        "X_train, X_val, y_train, y_val = train_test_split(X, y_binarized, test_size=0.2, random_state=42)\n",
        "\n",
        "# Initialize and fit Hashing Vectorizer\n",
        "hash_vectorizer = HashingVectorizer(n_features=2000, alternate_sign=False)\n",
        "X_train_hash = hash_vectorizer.transform(X_train)\n",
        "X_val_hash = hash_vectorizer.transform(X_val)\n",
        "\n",
        "# Ensure data is in sparse matrix format\n",
        "X_train_sparse = csr_matrix(X_train_hash)\n",
        "X_val_sparse = csr_matrix(X_val_hash)\n",
        "\n",
        "# Initialize the Logistic Regression model with regularization\n",
        "log_reg = LogisticRegression(solver='saga', penalty='l2', max_iter=100)\n",
        "\n",
        "# Wrap it with MultiOutputClassifier to handle multi-label classification\n",
        "multi_target_model = MultiOutputClassifier(log_reg, n_jobs=-1)\n",
        "\n",
        "# Train the model\n",
        "multi_target_model.fit(X_train_sparse, y_train)\n",
        "\n",
        "# Predict on validation set\n",
        "y_val_pred = multi_target_model.predict(X_val_sparse)\n",
        "\n",
        "# Evaluate the performance\n",
        "print(\"Validation Classification Report:\")\n",
        "print(classification_report(y_val, y_val_pred, target_names=mlb.classes_))\n"
      ],
      "metadata": {
        "colab": {
          "base_uri": "https://localhost:8080/"
        },
        "id": "G4-UCu1BRcAL",
        "outputId": "5417b2fa-10e3-4c76-953f-a6cb1c3a9664"
      },
      "execution_count": 2,
      "outputs": [
        {
          "output_type": "stream",
          "name": "stdout",
          "text": [
            "Validation Classification Report:\n",
            "              precision    recall  f1-score   support\n",
            "\n",
            "     android       0.82      0.65      0.73     18101\n",
            "          c#       0.83      0.55      0.66     20459\n",
            "         c++       0.87      0.60      0.71      9342\n",
            "        html       0.61      0.23      0.34     11668\n",
            "         ios       0.89      0.68      0.77      9401\n",
            "        java       0.79      0.53      0.63     22817\n",
            "  javascript       0.65      0.37      0.47     24900\n",
            "      jquery       0.58      0.29      0.39     15796\n",
            "         php       0.82      0.63      0.71     19778\n",
            "      python       0.91      0.74      0.82     13086\n",
            "\n",
            "   micro avg       0.79      0.52      0.63    165348\n",
            "   macro avg       0.78      0.53      0.62    165348\n",
            "weighted avg       0.77      0.52      0.62    165348\n",
            " samples avg       0.50      0.52      0.51    165348\n",
            "\n"
          ]
        },
        {
          "output_type": "stream",
          "name": "stderr",
          "text": [
            "/usr/local/lib/python3.10/dist-packages/sklearn/metrics/_classification.py:1471: UndefinedMetricWarning: Precision and F-score are ill-defined and being set to 0.0 in samples with no predicted labels. Use `zero_division` parameter to control this behavior.\n",
            "  _warn_prf(average, modifier, msg_start, len(result))\n"
          ]
        }
      ]
    }
  ]
}